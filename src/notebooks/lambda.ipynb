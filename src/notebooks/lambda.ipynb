{
 "cells": [
  {
   "cell_type": "markdown",
   "metadata": {},
   "source": [
    "# lambda介紹"
   ]
  },
  {
   "cell_type": "markdown",
   "metadata": {},
   "source": [
    "什麼是lambda？\n",
    "lambda是一種希臘字母，本身並沒有意義。\n",
    "\n",
    "\n",
    "開玩笑的，lambda，準確來說lambda-calculus，是一種函數的表達方式。\n",
    "以下是python底下的lambda表達方式。"
   ]
  },
  {
   "cell_type": "code",
   "execution_count": 1,
   "metadata": {},
   "outputs": [
    {
     "data": {
      "text/plain": [
       "<function __main__.<lambda>(x)>"
      ]
     },
     "execution_count": 1,
     "metadata": {},
     "output_type": "execute_result"
    }
   ],
   "source": [
    "lambda x: x + 1\n",
    "# 輸入參數 x，返回 x + 1"
   ]
  },
  {
   "cell_type": "markdown",
   "metadata": {},
   "source": [
    "在python裡，單單上面的表達式無法作為函數使用，需要「調用」。"
   ]
  },
  {
   "cell_type": "code",
   "execution_count": 2,
   "metadata": {},
   "outputs": [
    {
     "name": "stdout",
     "output_type": "stream",
     "text": [
      "4\n"
     ]
    }
   ],
   "source": [
    "f = lambda x: x + 1\n",
    "print(f(3))"
   ]
  },
  {
   "cell_type": "markdown",
   "metadata": {},
   "source": [
    "well... 這其實相當於以下函數定義。"
   ]
  },
  {
   "cell_type": "code",
   "execution_count": 5,
   "metadata": {},
   "outputs": [
    {
     "name": "stdout",
     "output_type": "stream",
     "text": [
      "4\n"
     ]
    }
   ],
   "source": [
    "def f(x):\n",
    "    return x + 1\n",
    "\n",
    "print(f(3))"
   ]
  },
  {
   "cell_type": "markdown",
   "metadata": {},
   "source": [
    "不同於函數定義，lambda表達式可以直接作為函數參數傳遞。"
   ]
  },
  {
   "cell_type": "code",
   "execution_count": 14,
   "metadata": {},
   "outputs": [
    {
     "name": "stdout",
     "output_type": "stream",
     "text": [
      "4\n"
     ]
    }
   ],
   "source": [
    "def do_function(func, *params):\n",
    "    return func(*params)\n",
    "\n",
    "print(do_function(lambda x: x+1, 3))"
   ]
  },
  {
   "cell_type": "markdown",
   "metadata": {},
   "source": [
    "當然，lambda可以傳給另一個lambda。"
   ]
  },
  {
   "cell_type": "code",
   "execution_count": 10,
   "metadata": {},
   "outputs": [
    {
     "name": "stdout",
     "output_type": "stream",
     "text": [
      "4\n"
     ]
    }
   ],
   "source": [
    "print((lambda x,*y: x(*y))(lambda x: x+1, 3))"
   ]
  },
  {
   "cell_type": "markdown",
   "metadata": {},
   "source": [
    "或是讓lambda回傳一個lambda"
   ]
  },
  {
   "cell_type": "code",
   "execution_count": null,
   "metadata": {},
   "outputs": [
    {
     "name": "stdout",
     "output_type": "stream",
     "text": [
      "8\n"
     ]
    }
   ],
   "source": [
    "a = (lambda x: (lambda y: x+y))(3)\n",
    "# a = lambda y: 3+y\n",
    "print(a(5))"
   ]
  },
  {
   "cell_type": "markdown",
   "metadata": {},
   "source": [
    "## 進入lambda領域"
   ]
  },
  {
   "cell_type": "markdown",
   "metadata": {},
   "source": [
    "在踏入完全地lambda領域之前，你需要知道三個概念。\n",
    "1. 變數 a\n",
    "\n",
    "    任何一個變數都是一個有效的表達式，可以是任何字元。\n",
    "\n",
    "2. lambda函數體 lambda a:b\n",
    "\n",
    "    接受參數a並回傳b。非程式語言會以希臘字母和句號紀錄: λa.b\n",
    "\n",
    "3. 傳遞參數 lambda a:b (c) / (λa.b)(c)\n",
    "\n",
    "    將傳入值c代進函數體b中所有a的地方\n",
    "    也有人利用(_ _)代表套用函數，即 (λa.b c)\n",
    "    但後者較難以追蹤函數體與傳入值間的關係與差異"
   ]
  },
  {
   "cell_type": "markdown",
   "metadata": {},
   "source": [
    "## alpha 恆等\n",
    "\n",
    "當表達式彼此間只差在變數名稱的不同，其餘結構相等時，\n",
    "稱兩表達式彼此alpha 恆等。\n",
    "\n",
    "λa.a <-> λb.b"
   ]
  },
  {
   "cell_type": "code",
   "execution_count": null,
   "metadata": {},
   "outputs": [
    {
     "name": "stdout",
     "output_type": "stream",
     "text": [
      "False\n"
     ]
    }
   ],
   "source": [
    "print((lambda x: x) == (lambda y: y)) "
   ]
  },
  {
   "cell_type": "markdown",
   "metadata": {},
   "source": [
    "well... 即便python不這麼認為w\n",
    "\n",
    "## beta 簡化\n",
    "當一表達式經過 beta 簡化，可以與另一表達式 alpha 恆等，則稱為 beta 恆等。\n",
    "\n",
    "(λa.a)(b) <-> b"
   ]
  },
  {
   "cell_type": "code",
   "execution_count": 21,
   "metadata": {},
   "outputs": [
    {
     "name": "stdout",
     "output_type": "stream",
     "text": [
      "True\n"
     ]
    }
   ],
   "source": [
    "print((lambda x: x)(3) == 3)"
   ]
  },
  {
   "cell_type": "markdown",
   "metadata": {},
   "source": [
    "## lambda 簡化\n",
    "實質上，lambda 只接受一個變數，\n",
    "但是只要讓一個 lambda 函數回傳另一個 lambda 函數，\n",
    "即可實現多參數傳遞，\n",
    "因此也可以將多個單參數 lambda 簡化合併。\n",
    "\n",
    "(λa.λb.a+b)(1)(2) <-> (λb.1+b)(2) <-> 1+2\n",
    "\n",
    "因此\n",
    "(λa.λb.a+b)(1)(2) <-> (λab.a+b)(1, 2)\n",
    "\n",
    "在 python 中，後者較為常見。"
   ]
  },
  {
   "cell_type": "code",
   "execution_count": 25,
   "metadata": {},
   "outputs": [
    {
     "name": "stdout",
     "output_type": "stream",
     "text": [
      "8\n",
      "8\n"
     ]
    }
   ],
   "source": [
    "print((lambda x: (lambda y: x + y))(3)(5))\n",
    "print((lambda x, y: x + y)(3, 5))"
   ]
  },
  {
   "cell_type": "markdown",
   "metadata": {},
   "source": [
    "值得注意的是，函數的帶入方式不一樣，\n",
    "\n",
    "前者是將 3 代入函數後，先回傳一新函數 λy.3+y，\n",
    "再將 5 代入 λy.3+y\n",
    "\n",
    "後者是同時將 3, 5 作為參數 x, y 傳入。\n",
    "\n",
    "雖然簡化後意義改變，但仍然是 beta 恆等的。"
   ]
  },
  {
   "cell_type": "markdown",
   "metadata": {},
   "source": [
    "## 布林值\n",
    "布林值聽著可怕、單身又醜陋，但其實只是邏輯中的基本概念「真」、「假」/「是」、「否」。\n",
    "\n",
    "雖然很突然，但我想跟你說，這兩位其實是個函數。\n",
    "\n",
    "真 <-> λab.a\n",
    "假 <-> λab.b\n",
    "\n",
    "即：照順序代入 a, b後，返回 a 就是真、b 就是假\n",
    "\n",
    "為什麼？因為希望 if A then B else C 表達式中可以完美運作。\n",
    "以下帶你建構上述表達式。\n",
    "\n",
    "我們希望「真」時返回 B，「假」時返回 C。\n",
    "因此需要三個參數同時傳入：\n",
    "\n",
    "(λxyz.?)(λab.a)(B)(C) <-> B\n",
    "\n",
    "(λxyz.?)(λab.b)(B)(C) <-> C\n",
    "\n",
    "由於「真」、「假」同時具有選擇回傳值的特性，\n",
    "讓布林值選擇即可，\n",
    "因此：\n",
    "\n",
    "(λxyz.(x)(y, z))(λab.a, B, C)\n",
    "<-> (λab.a)(B, C)\n",
    "<-> B\n",
    "\n",
    "(λxyz.(x)(y, z))(λab.b, B, C)\n",
    "<-> (λab.b)(B, C)\n",
    "<-> C"
   ]
  },
  {
   "cell_type": "code",
   "execution_count": null,
   "metadata": {},
   "outputs": [
    {
     "name": "stdout",
     "output_type": "stream",
     "text": [
      "1\n",
      "2\n"
     ]
    }
   ],
   "source": [
    "true = lambda a, b: a\n",
    "false = lambda a, b: b\n",
    "\n",
    "print((lambda x, y, z: x(y, z))(true, 1, 2))\n",
    "print((lambda x, y, z: x(y, z))(false, 1, 2))"
   ]
  }
 ],
 "metadata": {
  "kernelspec": {
   "display_name": "learnpy",
   "language": "python",
   "name": "python3"
  },
  "language_info": {
   "codemirror_mode": {
    "name": "ipython",
    "version": 3
   },
   "file_extension": ".py",
   "mimetype": "text/x-python",
   "name": "python",
   "nbconvert_exporter": "python",
   "pygments_lexer": "ipython3",
   "version": "3.12.3"
  }
 },
 "nbformat": 4,
 "nbformat_minor": 2
}
